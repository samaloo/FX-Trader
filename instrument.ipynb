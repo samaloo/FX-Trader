{
 "cells": [
  {
   "cell_type": "code",
   "execution_count": 1,
   "metadata": {},
   "outputs": [],
   "source": [
    "import requests\n",
    "import defs\n",
    "import pandas as pd"
   ]
  },
  {
   "cell_type": "code",
   "execution_count": 2,
   "metadata": {},
   "outputs": [],
   "source": [
    "session = requests.Session()"
   ]
  },
  {
   "cell_type": "code",
   "execution_count": 3,
   "metadata": {},
   "outputs": [],
   "source": [
    "instrument = \"EUR_USD\"\n",
    "count = 10\n",
    "granularity = \"H1\""
   ]
  },
  {
   "cell_type": "code",
   "execution_count": 4,
   "metadata": {},
   "outputs": [],
   "source": [
    "url = f\"{defs.OANDA_URL}/instruments/{instrument}/candles\""
   ]
  },
  {
   "cell_type": "code",
   "execution_count": 5,
   "metadata": {},
   "outputs": [
    {
     "data": {
      "text/plain": [
       "'https://api-fxpractice.oanda.com/v3/instruments/EUR_USD/candles'"
      ]
     },
     "execution_count": 5,
     "metadata": {},
     "output_type": "execute_result"
    }
   ],
   "source": [
    "url"
   ]
  },
  {
   "cell_type": "code",
   "execution_count": 6,
   "metadata": {},
   "outputs": [],
   "source": [
    "params = dict(\n",
    "    count = count,\n",
    "    granularity = granularity,\n",
    "    price = \"MBA\"\n",
    ")"
   ]
  },
  {
   "cell_type": "code",
   "execution_count": 7,
   "metadata": {},
   "outputs": [
    {
     "data": {
      "text/plain": [
       "{'count': 10, 'granularity': 'H1', 'price': 'MBA'}"
      ]
     },
     "execution_count": 7,
     "metadata": {},
     "output_type": "execute_result"
    }
   ],
   "source": [
    "params"
   ]
  },
  {
   "cell_type": "code",
   "execution_count": 8,
   "metadata": {},
   "outputs": [],
   "source": [
    "response = session.get(url, params=params, headers=defs.SECURE_HEADER)"
   ]
  },
  {
   "cell_type": "code",
   "execution_count": 9,
   "metadata": {},
   "outputs": [
    {
     "data": {
      "text/plain": [
       "200"
      ]
     },
     "execution_count": 9,
     "metadata": {},
     "output_type": "execute_result"
    }
   ],
   "source": [
    "response.status_code"
   ]
  },
  {
   "cell_type": "code",
   "execution_count": 12,
   "metadata": {},
   "outputs": [],
   "source": [
    "data = response.json()"
   ]
  },
  {
   "cell_type": "code",
   "execution_count": 13,
   "metadata": {},
   "outputs": [
    {
     "data": {
      "text/plain": [
       "dict_keys(['instrument', 'granularity', 'candles'])"
      ]
     },
     "execution_count": 13,
     "metadata": {},
     "output_type": "execute_result"
    }
   ],
   "source": [
    "data.keys()"
   ]
  },
  {
   "cell_type": "code",
   "execution_count": 14,
   "metadata": {},
   "outputs": [
    {
     "data": {
      "text/plain": [
       "10"
      ]
     },
     "execution_count": 14,
     "metadata": {},
     "output_type": "execute_result"
    }
   ],
   "source": [
    "len(data['candles'])"
   ]
  },
  {
   "cell_type": "code",
   "execution_count": 16,
   "metadata": {},
   "outputs": [],
   "source": [
    "prices= ['mid', 'bid', 'ask']\n",
    "ohlc = ['o', 'h', 'l', 'c']"
   ]
  },
  {
   "cell_type": "code",
   "execution_count": 17,
   "metadata": {},
   "outputs": [
    {
     "name": "stdout",
     "output_type": "stream",
     "text": [
      "mid_o\n",
      "mid_h\n",
      "mid_l\n",
      "mid_c\n",
      "bid_o\n",
      "bid_h\n",
      "bid_l\n",
      "bid_c\n",
      "ask_o\n",
      "ask_h\n",
      "ask_l\n",
      "ask_c\n"
     ]
    }
   ],
   "source": [
    "for price in prices:\n",
    "    for oh in ohlc:\n",
    "        print(f\"{price}_{oh}\")"
   ]
  },
  {
   "cell_type": "code",
   "execution_count": 19,
   "metadata": {},
   "outputs": [
    {
     "data": {
      "text/plain": [
       "'1.08279'"
      ]
     },
     "execution_count": 19,
     "metadata": {},
     "output_type": "execute_result"
    }
   ],
   "source": [
    "data['candles'][0]['bid']['o']"
   ]
  },
  {
   "cell_type": "code",
   "execution_count": 21,
   "metadata": {},
   "outputs": [
    {
     "name": "stdout",
     "output_type": "stream",
     "text": [
      "[{'time': '2023-01-15T23:00:00.000000000Z', 'volume': 3864, 'mid_o': '1.08321', 'mid_h': '1.08358', 'mid_l': '1.08204', 'mid_c': '1.08228', 'bid_o': '1.08279', 'bid_h': '1.08327', 'bid_l': '1.08196', 'bid_c': '1.08220', 'ask_o': '1.08363', 'ask_h': '1.08401', 'ask_l': '1.08213', 'ask_c': '1.08235'}, {'time': '2023-01-16T00:00:00.000000000Z', 'volume': 3789, 'mid_o': '1.08230', 'mid_h': '1.08444', 'mid_l': '1.08214', 'mid_c': '1.08418', 'bid_o': '1.08223', 'bid_h': '1.08436', 'bid_l': '1.08204', 'bid_c': '1.08411', 'ask_o': '1.08238', 'ask_h': '1.08454', 'ask_l': '1.08223', 'ask_c': '1.08426'}, {'time': '2023-01-16T01:00:00.000000000Z', 'volume': 5341, 'mid_o': '1.08418', 'mid_h': '1.08724', 'mid_l': '1.08407', 'mid_c': '1.08680', 'bid_o': '1.08411', 'bid_h': '1.08715', 'bid_l': '1.08399', 'bid_c': '1.08672', 'ask_o': '1.08424', 'ask_h': '1.08733', 'ask_l': '1.08415', 'ask_c': '1.08689'}, {'time': '2023-01-16T02:00:00.000000000Z', 'volume': 4609, 'mid_o': '1.08679', 'mid_h': '1.08743', 'mid_l': '1.08656', 'mid_c': '1.08668', 'bid_o': '1.08670', 'bid_h': '1.08736', 'bid_l': '1.08648', 'bid_c': '1.08661', 'ask_o': '1.08688', 'ask_h': '1.08751', 'ask_l': '1.08664', 'ask_c': '1.08675'}, {'time': '2023-01-16T03:00:00.000000000Z', 'volume': 2538, 'mid_o': '1.08670', 'mid_h': '1.08674', 'mid_l': '1.08594', 'mid_c': '1.08602', 'bid_o': '1.08663', 'bid_h': '1.08666', 'bid_l': '1.08585', 'bid_c': '1.08592', 'ask_o': '1.08677', 'ask_h': '1.08683', 'ask_l': '1.08602', 'ask_c': '1.08611'}, {'time': '2023-01-16T04:00:00.000000000Z', 'volume': 2335, 'mid_o': '1.08600', 'mid_h': '1.08641', 'mid_l': '1.08509', 'mid_c': '1.08530', 'bid_o': '1.08593', 'bid_h': '1.08634', 'bid_l': '1.08501', 'bid_c': '1.08521', 'ask_o': '1.08608', 'ask_h': '1.08649', 'ask_l': '1.08517', 'ask_c': '1.08539'}, {'time': '2023-01-16T05:00:00.000000000Z', 'volume': 2676, 'mid_o': '1.08530', 'mid_h': '1.08612', 'mid_l': '1.08524', 'mid_c': '1.08608', 'bid_o': '1.08522', 'bid_h': '1.08603', 'bid_l': '1.08515', 'bid_c': '1.08599', 'ask_o': '1.08539', 'ask_h': '1.08621', 'ask_l': '1.08531', 'ask_c': '1.08616'}, {'time': '2023-01-16T06:00:00.000000000Z', 'volume': 3654, 'mid_o': '1.08607', 'mid_h': '1.08607', 'mid_l': '1.08361', 'mid_c': '1.08396', 'bid_o': '1.08599', 'bid_h': '1.08599', 'bid_l': '1.08352', 'bid_c': '1.08386', 'ask_o': '1.08615', 'ask_h': '1.08615', 'ask_l': '1.08369', 'ask_c': '1.08405'}, {'time': '2023-01-16T07:00:00.000000000Z', 'volume': 5366, 'mid_o': '1.08395', 'mid_h': '1.08426', 'mid_l': '1.08266', 'mid_c': '1.08311', 'bid_o': '1.08386', 'bid_h': '1.08417', 'bid_l': '1.08257', 'bid_c': '1.08304', 'ask_o': '1.08404', 'ask_h': '1.08435', 'ask_l': '1.08273', 'ask_c': '1.08318'}]\n"
     ]
    }
   ],
   "source": [
    "our_data = []\n",
    "for candle in data['candles']:\n",
    "    if candle['complete'] == False:\n",
    "        continue\n",
    "    new_dict = {}\n",
    "    new_dict['time'] = candle['time']\n",
    "    new_dict['volume'] = candle['volume']\n",
    "    for price in prices:\n",
    "        for oh in ohlc:\n",
    "            new_dict[f\"{price}_{oh}\"] = candle[price][oh]\n",
    "    our_data.append(new_dict)\n",
    "print(our_data)"
   ]
  },
  {
   "cell_type": "code",
   "execution_count": 22,
   "metadata": {},
   "outputs": [],
   "source": [
    "candles_df = pd.DataFrame.from_dict(our_data)"
   ]
  },
  {
   "cell_type": "code",
   "execution_count": 23,
   "metadata": {},
   "outputs": [
    {
     "data": {
      "text/html": [
       "<div>\n",
       "<style scoped>\n",
       "    .dataframe tbody tr th:only-of-type {\n",
       "        vertical-align: middle;\n",
       "    }\n",
       "\n",
       "    .dataframe tbody tr th {\n",
       "        vertical-align: top;\n",
       "    }\n",
       "\n",
       "    .dataframe thead th {\n",
       "        text-align: right;\n",
       "    }\n",
       "</style>\n",
       "<table border=\"1\" class=\"dataframe\">\n",
       "  <thead>\n",
       "    <tr style=\"text-align: right;\">\n",
       "      <th></th>\n",
       "      <th>time</th>\n",
       "      <th>volume</th>\n",
       "      <th>mid_o</th>\n",
       "      <th>mid_h</th>\n",
       "      <th>mid_l</th>\n",
       "      <th>mid_c</th>\n",
       "      <th>bid_o</th>\n",
       "      <th>bid_h</th>\n",
       "      <th>bid_l</th>\n",
       "      <th>bid_c</th>\n",
       "      <th>ask_o</th>\n",
       "      <th>ask_h</th>\n",
       "      <th>ask_l</th>\n",
       "      <th>ask_c</th>\n",
       "    </tr>\n",
       "  </thead>\n",
       "  <tbody>\n",
       "    <tr>\n",
       "      <th>0</th>\n",
       "      <td>2023-01-15T23:00:00.000000000Z</td>\n",
       "      <td>3864</td>\n",
       "      <td>1.08321</td>\n",
       "      <td>1.08358</td>\n",
       "      <td>1.08204</td>\n",
       "      <td>1.08228</td>\n",
       "      <td>1.08279</td>\n",
       "      <td>1.08327</td>\n",
       "      <td>1.08196</td>\n",
       "      <td>1.08220</td>\n",
       "      <td>1.08363</td>\n",
       "      <td>1.08401</td>\n",
       "      <td>1.08213</td>\n",
       "      <td>1.08235</td>\n",
       "    </tr>\n",
       "    <tr>\n",
       "      <th>1</th>\n",
       "      <td>2023-01-16T00:00:00.000000000Z</td>\n",
       "      <td>3789</td>\n",
       "      <td>1.08230</td>\n",
       "      <td>1.08444</td>\n",
       "      <td>1.08214</td>\n",
       "      <td>1.08418</td>\n",
       "      <td>1.08223</td>\n",
       "      <td>1.08436</td>\n",
       "      <td>1.08204</td>\n",
       "      <td>1.08411</td>\n",
       "      <td>1.08238</td>\n",
       "      <td>1.08454</td>\n",
       "      <td>1.08223</td>\n",
       "      <td>1.08426</td>\n",
       "    </tr>\n",
       "    <tr>\n",
       "      <th>2</th>\n",
       "      <td>2023-01-16T01:00:00.000000000Z</td>\n",
       "      <td>5341</td>\n",
       "      <td>1.08418</td>\n",
       "      <td>1.08724</td>\n",
       "      <td>1.08407</td>\n",
       "      <td>1.08680</td>\n",
       "      <td>1.08411</td>\n",
       "      <td>1.08715</td>\n",
       "      <td>1.08399</td>\n",
       "      <td>1.08672</td>\n",
       "      <td>1.08424</td>\n",
       "      <td>1.08733</td>\n",
       "      <td>1.08415</td>\n",
       "      <td>1.08689</td>\n",
       "    </tr>\n",
       "    <tr>\n",
       "      <th>3</th>\n",
       "      <td>2023-01-16T02:00:00.000000000Z</td>\n",
       "      <td>4609</td>\n",
       "      <td>1.08679</td>\n",
       "      <td>1.08743</td>\n",
       "      <td>1.08656</td>\n",
       "      <td>1.08668</td>\n",
       "      <td>1.08670</td>\n",
       "      <td>1.08736</td>\n",
       "      <td>1.08648</td>\n",
       "      <td>1.08661</td>\n",
       "      <td>1.08688</td>\n",
       "      <td>1.08751</td>\n",
       "      <td>1.08664</td>\n",
       "      <td>1.08675</td>\n",
       "    </tr>\n",
       "    <tr>\n",
       "      <th>4</th>\n",
       "      <td>2023-01-16T03:00:00.000000000Z</td>\n",
       "      <td>2538</td>\n",
       "      <td>1.08670</td>\n",
       "      <td>1.08674</td>\n",
       "      <td>1.08594</td>\n",
       "      <td>1.08602</td>\n",
       "      <td>1.08663</td>\n",
       "      <td>1.08666</td>\n",
       "      <td>1.08585</td>\n",
       "      <td>1.08592</td>\n",
       "      <td>1.08677</td>\n",
       "      <td>1.08683</td>\n",
       "      <td>1.08602</td>\n",
       "      <td>1.08611</td>\n",
       "    </tr>\n",
       "    <tr>\n",
       "      <th>5</th>\n",
       "      <td>2023-01-16T04:00:00.000000000Z</td>\n",
       "      <td>2335</td>\n",
       "      <td>1.08600</td>\n",
       "      <td>1.08641</td>\n",
       "      <td>1.08509</td>\n",
       "      <td>1.08530</td>\n",
       "      <td>1.08593</td>\n",
       "      <td>1.08634</td>\n",
       "      <td>1.08501</td>\n",
       "      <td>1.08521</td>\n",
       "      <td>1.08608</td>\n",
       "      <td>1.08649</td>\n",
       "      <td>1.08517</td>\n",
       "      <td>1.08539</td>\n",
       "    </tr>\n",
       "    <tr>\n",
       "      <th>6</th>\n",
       "      <td>2023-01-16T05:00:00.000000000Z</td>\n",
       "      <td>2676</td>\n",
       "      <td>1.08530</td>\n",
       "      <td>1.08612</td>\n",
       "      <td>1.08524</td>\n",
       "      <td>1.08608</td>\n",
       "      <td>1.08522</td>\n",
       "      <td>1.08603</td>\n",
       "      <td>1.08515</td>\n",
       "      <td>1.08599</td>\n",
       "      <td>1.08539</td>\n",
       "      <td>1.08621</td>\n",
       "      <td>1.08531</td>\n",
       "      <td>1.08616</td>\n",
       "    </tr>\n",
       "    <tr>\n",
       "      <th>7</th>\n",
       "      <td>2023-01-16T06:00:00.000000000Z</td>\n",
       "      <td>3654</td>\n",
       "      <td>1.08607</td>\n",
       "      <td>1.08607</td>\n",
       "      <td>1.08361</td>\n",
       "      <td>1.08396</td>\n",
       "      <td>1.08599</td>\n",
       "      <td>1.08599</td>\n",
       "      <td>1.08352</td>\n",
       "      <td>1.08386</td>\n",
       "      <td>1.08615</td>\n",
       "      <td>1.08615</td>\n",
       "      <td>1.08369</td>\n",
       "      <td>1.08405</td>\n",
       "    </tr>\n",
       "    <tr>\n",
       "      <th>8</th>\n",
       "      <td>2023-01-16T07:00:00.000000000Z</td>\n",
       "      <td>5366</td>\n",
       "      <td>1.08395</td>\n",
       "      <td>1.08426</td>\n",
       "      <td>1.08266</td>\n",
       "      <td>1.08311</td>\n",
       "      <td>1.08386</td>\n",
       "      <td>1.08417</td>\n",
       "      <td>1.08257</td>\n",
       "      <td>1.08304</td>\n",
       "      <td>1.08404</td>\n",
       "      <td>1.08435</td>\n",
       "      <td>1.08273</td>\n",
       "      <td>1.08318</td>\n",
       "    </tr>\n",
       "  </tbody>\n",
       "</table>\n",
       "</div>"
      ],
      "text/plain": [
       "                             time  volume    mid_o    mid_h    mid_l    mid_c  \\\n",
       "0  2023-01-15T23:00:00.000000000Z    3864  1.08321  1.08358  1.08204  1.08228   \n",
       "1  2023-01-16T00:00:00.000000000Z    3789  1.08230  1.08444  1.08214  1.08418   \n",
       "2  2023-01-16T01:00:00.000000000Z    5341  1.08418  1.08724  1.08407  1.08680   \n",
       "3  2023-01-16T02:00:00.000000000Z    4609  1.08679  1.08743  1.08656  1.08668   \n",
       "4  2023-01-16T03:00:00.000000000Z    2538  1.08670  1.08674  1.08594  1.08602   \n",
       "5  2023-01-16T04:00:00.000000000Z    2335  1.08600  1.08641  1.08509  1.08530   \n",
       "6  2023-01-16T05:00:00.000000000Z    2676  1.08530  1.08612  1.08524  1.08608   \n",
       "7  2023-01-16T06:00:00.000000000Z    3654  1.08607  1.08607  1.08361  1.08396   \n",
       "8  2023-01-16T07:00:00.000000000Z    5366  1.08395  1.08426  1.08266  1.08311   \n",
       "\n",
       "     bid_o    bid_h    bid_l    bid_c    ask_o    ask_h    ask_l    ask_c  \n",
       "0  1.08279  1.08327  1.08196  1.08220  1.08363  1.08401  1.08213  1.08235  \n",
       "1  1.08223  1.08436  1.08204  1.08411  1.08238  1.08454  1.08223  1.08426  \n",
       "2  1.08411  1.08715  1.08399  1.08672  1.08424  1.08733  1.08415  1.08689  \n",
       "3  1.08670  1.08736  1.08648  1.08661  1.08688  1.08751  1.08664  1.08675  \n",
       "4  1.08663  1.08666  1.08585  1.08592  1.08677  1.08683  1.08602  1.08611  \n",
       "5  1.08593  1.08634  1.08501  1.08521  1.08608  1.08649  1.08517  1.08539  \n",
       "6  1.08522  1.08603  1.08515  1.08599  1.08539  1.08621  1.08531  1.08616  \n",
       "7  1.08599  1.08599  1.08352  1.08386  1.08615  1.08615  1.08369  1.08405  \n",
       "8  1.08386  1.08417  1.08257  1.08304  1.08404  1.08435  1.08273  1.08318  "
      ]
     },
     "execution_count": 23,
     "metadata": {},
     "output_type": "execute_result"
    }
   ],
   "source": [
    "candles_df"
   ]
  },
  {
   "cell_type": "code",
   "execution_count": 24,
   "metadata": {},
   "outputs": [],
   "source": [
    "candles_df.to_pickle(\"EUR_USD_H1.pkl\")"
   ]
  },
  {
   "cell_type": "code",
   "execution_count": 25,
   "metadata": {},
   "outputs": [],
   "source": [
    "test_df = pd.read_pickle(\"EUR_USD_H1.pkl\")"
   ]
  },
  {
   "cell_type": "code",
   "execution_count": 26,
   "metadata": {},
   "outputs": [
    {
     "data": {
      "text/html": [
       "<div>\n",
       "<style scoped>\n",
       "    .dataframe tbody tr th:only-of-type {\n",
       "        vertical-align: middle;\n",
       "    }\n",
       "\n",
       "    .dataframe tbody tr th {\n",
       "        vertical-align: top;\n",
       "    }\n",
       "\n",
       "    .dataframe thead th {\n",
       "        text-align: right;\n",
       "    }\n",
       "</style>\n",
       "<table border=\"1\" class=\"dataframe\">\n",
       "  <thead>\n",
       "    <tr style=\"text-align: right;\">\n",
       "      <th></th>\n",
       "      <th>time</th>\n",
       "      <th>volume</th>\n",
       "      <th>mid_o</th>\n",
       "      <th>mid_h</th>\n",
       "      <th>mid_l</th>\n",
       "      <th>mid_c</th>\n",
       "      <th>bid_o</th>\n",
       "      <th>bid_h</th>\n",
       "      <th>bid_l</th>\n",
       "      <th>bid_c</th>\n",
       "      <th>ask_o</th>\n",
       "      <th>ask_h</th>\n",
       "      <th>ask_l</th>\n",
       "      <th>ask_c</th>\n",
       "    </tr>\n",
       "  </thead>\n",
       "  <tbody>\n",
       "    <tr>\n",
       "      <th>0</th>\n",
       "      <td>2023-01-15T23:00:00.000000000Z</td>\n",
       "      <td>3864</td>\n",
       "      <td>1.08321</td>\n",
       "      <td>1.08358</td>\n",
       "      <td>1.08204</td>\n",
       "      <td>1.08228</td>\n",
       "      <td>1.08279</td>\n",
       "      <td>1.08327</td>\n",
       "      <td>1.08196</td>\n",
       "      <td>1.08220</td>\n",
       "      <td>1.08363</td>\n",
       "      <td>1.08401</td>\n",
       "      <td>1.08213</td>\n",
       "      <td>1.08235</td>\n",
       "    </tr>\n",
       "    <tr>\n",
       "      <th>1</th>\n",
       "      <td>2023-01-16T00:00:00.000000000Z</td>\n",
       "      <td>3789</td>\n",
       "      <td>1.08230</td>\n",
       "      <td>1.08444</td>\n",
       "      <td>1.08214</td>\n",
       "      <td>1.08418</td>\n",
       "      <td>1.08223</td>\n",
       "      <td>1.08436</td>\n",
       "      <td>1.08204</td>\n",
       "      <td>1.08411</td>\n",
       "      <td>1.08238</td>\n",
       "      <td>1.08454</td>\n",
       "      <td>1.08223</td>\n",
       "      <td>1.08426</td>\n",
       "    </tr>\n",
       "    <tr>\n",
       "      <th>2</th>\n",
       "      <td>2023-01-16T01:00:00.000000000Z</td>\n",
       "      <td>5341</td>\n",
       "      <td>1.08418</td>\n",
       "      <td>1.08724</td>\n",
       "      <td>1.08407</td>\n",
       "      <td>1.08680</td>\n",
       "      <td>1.08411</td>\n",
       "      <td>1.08715</td>\n",
       "      <td>1.08399</td>\n",
       "      <td>1.08672</td>\n",
       "      <td>1.08424</td>\n",
       "      <td>1.08733</td>\n",
       "      <td>1.08415</td>\n",
       "      <td>1.08689</td>\n",
       "    </tr>\n",
       "    <tr>\n",
       "      <th>3</th>\n",
       "      <td>2023-01-16T02:00:00.000000000Z</td>\n",
       "      <td>4609</td>\n",
       "      <td>1.08679</td>\n",
       "      <td>1.08743</td>\n",
       "      <td>1.08656</td>\n",
       "      <td>1.08668</td>\n",
       "      <td>1.08670</td>\n",
       "      <td>1.08736</td>\n",
       "      <td>1.08648</td>\n",
       "      <td>1.08661</td>\n",
       "      <td>1.08688</td>\n",
       "      <td>1.08751</td>\n",
       "      <td>1.08664</td>\n",
       "      <td>1.08675</td>\n",
       "    </tr>\n",
       "    <tr>\n",
       "      <th>4</th>\n",
       "      <td>2023-01-16T03:00:00.000000000Z</td>\n",
       "      <td>2538</td>\n",
       "      <td>1.08670</td>\n",
       "      <td>1.08674</td>\n",
       "      <td>1.08594</td>\n",
       "      <td>1.08602</td>\n",
       "      <td>1.08663</td>\n",
       "      <td>1.08666</td>\n",
       "      <td>1.08585</td>\n",
       "      <td>1.08592</td>\n",
       "      <td>1.08677</td>\n",
       "      <td>1.08683</td>\n",
       "      <td>1.08602</td>\n",
       "      <td>1.08611</td>\n",
       "    </tr>\n",
       "    <tr>\n",
       "      <th>5</th>\n",
       "      <td>2023-01-16T04:00:00.000000000Z</td>\n",
       "      <td>2335</td>\n",
       "      <td>1.08600</td>\n",
       "      <td>1.08641</td>\n",
       "      <td>1.08509</td>\n",
       "      <td>1.08530</td>\n",
       "      <td>1.08593</td>\n",
       "      <td>1.08634</td>\n",
       "      <td>1.08501</td>\n",
       "      <td>1.08521</td>\n",
       "      <td>1.08608</td>\n",
       "      <td>1.08649</td>\n",
       "      <td>1.08517</td>\n",
       "      <td>1.08539</td>\n",
       "    </tr>\n",
       "    <tr>\n",
       "      <th>6</th>\n",
       "      <td>2023-01-16T05:00:00.000000000Z</td>\n",
       "      <td>2676</td>\n",
       "      <td>1.08530</td>\n",
       "      <td>1.08612</td>\n",
       "      <td>1.08524</td>\n",
       "      <td>1.08608</td>\n",
       "      <td>1.08522</td>\n",
       "      <td>1.08603</td>\n",
       "      <td>1.08515</td>\n",
       "      <td>1.08599</td>\n",
       "      <td>1.08539</td>\n",
       "      <td>1.08621</td>\n",
       "      <td>1.08531</td>\n",
       "      <td>1.08616</td>\n",
       "    </tr>\n",
       "    <tr>\n",
       "      <th>7</th>\n",
       "      <td>2023-01-16T06:00:00.000000000Z</td>\n",
       "      <td>3654</td>\n",
       "      <td>1.08607</td>\n",
       "      <td>1.08607</td>\n",
       "      <td>1.08361</td>\n",
       "      <td>1.08396</td>\n",
       "      <td>1.08599</td>\n",
       "      <td>1.08599</td>\n",
       "      <td>1.08352</td>\n",
       "      <td>1.08386</td>\n",
       "      <td>1.08615</td>\n",
       "      <td>1.08615</td>\n",
       "      <td>1.08369</td>\n",
       "      <td>1.08405</td>\n",
       "    </tr>\n",
       "    <tr>\n",
       "      <th>8</th>\n",
       "      <td>2023-01-16T07:00:00.000000000Z</td>\n",
       "      <td>5366</td>\n",
       "      <td>1.08395</td>\n",
       "      <td>1.08426</td>\n",
       "      <td>1.08266</td>\n",
       "      <td>1.08311</td>\n",
       "      <td>1.08386</td>\n",
       "      <td>1.08417</td>\n",
       "      <td>1.08257</td>\n",
       "      <td>1.08304</td>\n",
       "      <td>1.08404</td>\n",
       "      <td>1.08435</td>\n",
       "      <td>1.08273</td>\n",
       "      <td>1.08318</td>\n",
       "    </tr>\n",
       "  </tbody>\n",
       "</table>\n",
       "</div>"
      ],
      "text/plain": [
       "                             time  volume    mid_o    mid_h    mid_l    mid_c  \\\n",
       "0  2023-01-15T23:00:00.000000000Z    3864  1.08321  1.08358  1.08204  1.08228   \n",
       "1  2023-01-16T00:00:00.000000000Z    3789  1.08230  1.08444  1.08214  1.08418   \n",
       "2  2023-01-16T01:00:00.000000000Z    5341  1.08418  1.08724  1.08407  1.08680   \n",
       "3  2023-01-16T02:00:00.000000000Z    4609  1.08679  1.08743  1.08656  1.08668   \n",
       "4  2023-01-16T03:00:00.000000000Z    2538  1.08670  1.08674  1.08594  1.08602   \n",
       "5  2023-01-16T04:00:00.000000000Z    2335  1.08600  1.08641  1.08509  1.08530   \n",
       "6  2023-01-16T05:00:00.000000000Z    2676  1.08530  1.08612  1.08524  1.08608   \n",
       "7  2023-01-16T06:00:00.000000000Z    3654  1.08607  1.08607  1.08361  1.08396   \n",
       "8  2023-01-16T07:00:00.000000000Z    5366  1.08395  1.08426  1.08266  1.08311   \n",
       "\n",
       "     bid_o    bid_h    bid_l    bid_c    ask_o    ask_h    ask_l    ask_c  \n",
       "0  1.08279  1.08327  1.08196  1.08220  1.08363  1.08401  1.08213  1.08235  \n",
       "1  1.08223  1.08436  1.08204  1.08411  1.08238  1.08454  1.08223  1.08426  \n",
       "2  1.08411  1.08715  1.08399  1.08672  1.08424  1.08733  1.08415  1.08689  \n",
       "3  1.08670  1.08736  1.08648  1.08661  1.08688  1.08751  1.08664  1.08675  \n",
       "4  1.08663  1.08666  1.08585  1.08592  1.08677  1.08683  1.08602  1.08611  \n",
       "5  1.08593  1.08634  1.08501  1.08521  1.08608  1.08649  1.08517  1.08539  \n",
       "6  1.08522  1.08603  1.08515  1.08599  1.08539  1.08621  1.08531  1.08616  \n",
       "7  1.08599  1.08599  1.08352  1.08386  1.08615  1.08615  1.08369  1.08405  \n",
       "8  1.08386  1.08417  1.08257  1.08304  1.08404  1.08435  1.08273  1.08318  "
      ]
     },
     "execution_count": 26,
     "metadata": {},
     "output_type": "execute_result"
    }
   ],
   "source": [
    "test_df"
   ]
  }
 ],
 "metadata": {
  "kernelspec": {
   "display_name": "base",
   "language": "python",
   "name": "python3"
  },
  "language_info": {
   "codemirror_mode": {
    "name": "ipython",
    "version": 3
   },
   "file_extension": ".py",
   "mimetype": "text/x-python",
   "name": "python",
   "nbconvert_exporter": "python",
   "pygments_lexer": "ipython3",
   "version": "3.9.7"
  },
  "orig_nbformat": 4,
  "vscode": {
   "interpreter": {
    "hash": "f08154012ddadd8e950e6e9e035c7a7b32c136e7647e9b7c77e02eb723a8bedb"
   }
  }
 },
 "nbformat": 4,
 "nbformat_minor": 2
}

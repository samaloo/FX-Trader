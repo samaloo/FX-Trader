{
 "cells": [
  {
   "cell_type": "code",
   "execution_count": 2,
   "metadata": {},
   "outputs": [],
   "source": [
    "import requests\n",
    "import defs\n",
    "import pandas as pd"
   ]
  },
  {
   "cell_type": "code",
   "execution_count": 3,
   "metadata": {},
   "outputs": [],
   "source": [
    "session = requests.Session()"
   ]
  },
  {
   "cell_type": "code",
   "execution_count": 4,
   "metadata": {},
   "outputs": [],
   "source": [
    "instrument = \"EUR_USD\"\n",
    "count = 10\n",
    "granularity = \"H1\""
   ]
  },
  {
   "cell_type": "code",
   "execution_count": 5,
   "metadata": {},
   "outputs": [],
   "source": [
    "url = f\"{defs.OANDA_URL}/accounts/{defs.ACCOUNT_ID}/instruments\""
   ]
  },
  {
   "cell_type": "code",
   "execution_count": 6,
   "metadata": {},
   "outputs": [
    {
     "data": {
      "text/plain": [
       "'https://api-fxpractice.oanda.com/v3/accounts/101-003-23588756-001/instruments'"
      ]
     },
     "execution_count": 6,
     "metadata": {},
     "output_type": "execute_result"
    }
   ],
   "source": [
    "url"
   ]
  },
  {
   "cell_type": "code",
   "execution_count": 7,
   "metadata": {},
   "outputs": [],
   "source": [
    "params = dict(\n",
    "    count = count,\n",
    "    granularity = granularity,\n",
    "    price = \"MBA\"\n",
    ")"
   ]
  },
  {
   "cell_type": "code",
   "execution_count": 8,
   "metadata": {},
   "outputs": [
    {
     "data": {
      "text/plain": [
       "{'count': 10, 'granularity': 'H1', 'price': 'MBA'}"
      ]
     },
     "execution_count": 8,
     "metadata": {},
     "output_type": "execute_result"
    }
   ],
   "source": [
    "params"
   ]
  },
  {
   "cell_type": "code",
   "execution_count": 9,
   "metadata": {},
   "outputs": [],
   "source": [
    "response = session.get(url, params=None, headers=defs.SECURE_HEADER)"
   ]
  },
  {
   "cell_type": "code",
   "execution_count": 10,
   "metadata": {},
   "outputs": [
    {
     "data": {
      "text/plain": [
       "200"
      ]
     },
     "execution_count": 10,
     "metadata": {},
     "output_type": "execute_result"
    }
   ],
   "source": [
    "response.status_code"
   ]
  },
  {
   "cell_type": "code",
   "execution_count": 11,
   "metadata": {},
   "outputs": [],
   "source": [
    "data = response.json()"
   ]
  },
  {
   "cell_type": "code",
   "execution_count": 27,
   "metadata": {},
   "outputs": [
    {
     "data": {
      "text/plain": [
       "dict_keys(['instruments', 'lastTransactionID'])"
      ]
     },
     "execution_count": 27,
     "metadata": {},
     "output_type": "execute_result"
    }
   ],
   "source": [
    "data.keys()"
   ]
  },
  {
   "cell_type": "code",
   "execution_count": 28,
   "metadata": {},
   "outputs": [],
   "source": [
    "instruments = data['instruments']"
   ]
  },
  {
   "cell_type": "code",
   "execution_count": 29,
   "metadata": {},
   "outputs": [
    {
     "data": {
      "text/plain": [
       "{'name': 'NZD_CAD',\n",
       " 'type': 'CURRENCY',\n",
       " 'displayName': 'NZD/CAD',\n",
       " 'pipLocation': -4,\n",
       " 'displayPrecision': 5,\n",
       " 'tradeUnitsPrecision': 0,\n",
       " 'minimumTradeSize': '1',\n",
       " 'maximumTrailingStopDistance': '1.00000',\n",
       " 'minimumTrailingStopDistance': '0.00050',\n",
       " 'maximumPositionSize': '0',\n",
       " 'maximumOrderUnits': '100000000',\n",
       " 'marginRate': '0.1',\n",
       " 'guaranteedStopLossOrderMode': 'ALLOWED',\n",
       " 'minimumGuaranteedStopLossDistance': '0.0010',\n",
       " 'guaranteedStopLossOrderExecutionPremium': '0.0005',\n",
       " 'guaranteedStopLossOrderLevelRestriction': {'volume': '1000000',\n",
       "  'priceRange': '0.0025'},\n",
       " 'tags': [{'type': 'ASSET_CLASS', 'name': 'CURRENCY'}],\n",
       " 'financing': {'longRate': '-0.0120',\n",
       "  'shortRate': '-0.0100',\n",
       "  'financingDaysOfWeek': [{'dayOfWeek': 'MONDAY', 'daysCharged': 1},\n",
       "   {'dayOfWeek': 'TUESDAY', 'daysCharged': 1},\n",
       "   {'dayOfWeek': 'WEDNESDAY', 'daysCharged': 1},\n",
       "   {'dayOfWeek': 'THURSDAY', 'daysCharged': 1},\n",
       "   {'dayOfWeek': 'FRIDAY', 'daysCharged': 1},\n",
       "   {'dayOfWeek': 'SATURDAY', 'daysCharged': 0},\n",
       "   {'dayOfWeek': 'SUNDAY', 'daysCharged': 0}]}}"
      ]
     },
     "execution_count": 29,
     "metadata": {},
     "output_type": "execute_result"
    }
   ],
   "source": [
    "instruments[0]"
   ]
  },
  {
   "cell_type": "code",
   "execution_count": 16,
   "metadata": {},
   "outputs": [
    {
     "data": {
      "text/plain": [
       "dict_keys(['name', 'type', 'displayName', 'pipLocation', 'displayPrecision', 'tradeUnitsPrecision', 'minimumTradeSize', 'maximumTrailingStopDistance', 'minimumTrailingStopDistance', 'maximumPositionSize', 'maximumOrderUnits', 'marginRate', 'guaranteedStopLossOrderMode', 'minimumGuaranteedStopLossDistance', 'guaranteedStopLossOrderExecutionPremium', 'guaranteedStopLossOrderLevelRestriction', 'tags', 'financing'])"
      ]
     },
     "execution_count": 16,
     "metadata": {},
     "output_type": "execute_result"
    }
   ],
   "source": [
    "instruments[0].keys()"
   ]
  },
  {
   "cell_type": "code",
   "execution_count": 32,
   "metadata": {},
   "outputs": [],
   "source": [
    "instrument_data = []\n",
    "for item in instruments:\n",
    "    new_ob = dict(\n",
    "        name = item['name'],\n",
    "        type = item['type'],\n",
    "        displayName = item['displayName'],\n",
    "        piplocation = item['pipLocation'],\n",
    "        marginRate = item['marginRate']\n",
    "    )\n",
    "    instrument_data.append(new_ob)"
   ]
  },
  {
   "cell_type": "code",
   "execution_count": 33,
   "metadata": {},
   "outputs": [],
   "source": [
    "instrument_df = pd.DataFrame.from_dict(instrument_data)"
   ]
  },
  {
   "cell_type": "code",
   "execution_count": 34,
   "metadata": {},
   "outputs": [
    {
     "data": {
      "text/html": [
       "<div>\n",
       "<style scoped>\n",
       "    .dataframe tbody tr th:only-of-type {\n",
       "        vertical-align: middle;\n",
       "    }\n",
       "\n",
       "    .dataframe tbody tr th {\n",
       "        vertical-align: top;\n",
       "    }\n",
       "\n",
       "    .dataframe thead th {\n",
       "        text-align: right;\n",
       "    }\n",
       "</style>\n",
       "<table border=\"1\" class=\"dataframe\">\n",
       "  <thead>\n",
       "    <tr style=\"text-align: right;\">\n",
       "      <th></th>\n",
       "      <th>name</th>\n",
       "      <th>type</th>\n",
       "      <th>displayName</th>\n",
       "      <th>piplocation</th>\n",
       "      <th>marginRate</th>\n",
       "    </tr>\n",
       "  </thead>\n",
       "  <tbody>\n",
       "    <tr>\n",
       "      <th>0</th>\n",
       "      <td>NZD_CAD</td>\n",
       "      <td>CURRENCY</td>\n",
       "      <td>NZD/CAD</td>\n",
       "      <td>-4</td>\n",
       "      <td>0.1</td>\n",
       "    </tr>\n",
       "    <tr>\n",
       "      <th>1</th>\n",
       "      <td>EUR_SGD</td>\n",
       "      <td>CURRENCY</td>\n",
       "      <td>EUR/SGD</td>\n",
       "      <td>-4</td>\n",
       "      <td>0.1</td>\n",
       "    </tr>\n",
       "    <tr>\n",
       "      <th>2</th>\n",
       "      <td>EU50_EUR</td>\n",
       "      <td>CFD</td>\n",
       "      <td>Europe 50</td>\n",
       "      <td>0</td>\n",
       "      <td>0.1</td>\n",
       "    </tr>\n",
       "    <tr>\n",
       "      <th>3</th>\n",
       "      <td>XAU_CAD</td>\n",
       "      <td>METAL</td>\n",
       "      <td>Gold/CAD</td>\n",
       "      <td>-2</td>\n",
       "      <td>0.2</td>\n",
       "    </tr>\n",
       "    <tr>\n",
       "      <th>4</th>\n",
       "      <td>EUR_AUD</td>\n",
       "      <td>CURRENCY</td>\n",
       "      <td>EUR/AUD</td>\n",
       "      <td>-4</td>\n",
       "      <td>0.1</td>\n",
       "    </tr>\n",
       "    <tr>\n",
       "      <th>...</th>\n",
       "      <td>...</td>\n",
       "      <td>...</td>\n",
       "      <td>...</td>\n",
       "      <td>...</td>\n",
       "      <td>...</td>\n",
       "    </tr>\n",
       "    <tr>\n",
       "      <th>123</th>\n",
       "      <td>USB05Y_USD</td>\n",
       "      <td>CFD</td>\n",
       "      <td>US 5Y T-Note</td>\n",
       "      <td>-2</td>\n",
       "      <td>0.2</td>\n",
       "    </tr>\n",
       "    <tr>\n",
       "      <th>124</th>\n",
       "      <td>XCU_USD</td>\n",
       "      <td>CFD</td>\n",
       "      <td>Copper</td>\n",
       "      <td>-4</td>\n",
       "      <td>0.2</td>\n",
       "    </tr>\n",
       "    <tr>\n",
       "      <th>125</th>\n",
       "      <td>SGD_CHF</td>\n",
       "      <td>CURRENCY</td>\n",
       "      <td>SGD/CHF</td>\n",
       "      <td>-4</td>\n",
       "      <td>0.1</td>\n",
       "    </tr>\n",
       "    <tr>\n",
       "      <th>126</th>\n",
       "      <td>USD_TRY</td>\n",
       "      <td>CURRENCY</td>\n",
       "      <td>USD/TRY</td>\n",
       "      <td>-4</td>\n",
       "      <td>0.25</td>\n",
       "    </tr>\n",
       "    <tr>\n",
       "      <th>127</th>\n",
       "      <td>GBP_JPY</td>\n",
       "      <td>CURRENCY</td>\n",
       "      <td>GBP/JPY</td>\n",
       "      <td>-2</td>\n",
       "      <td>0.1</td>\n",
       "    </tr>\n",
       "  </tbody>\n",
       "</table>\n",
       "<p>128 rows × 5 columns</p>\n",
       "</div>"
      ],
      "text/plain": [
       "           name      type   displayName  piplocation marginRate\n",
       "0       NZD_CAD  CURRENCY       NZD/CAD           -4        0.1\n",
       "1       EUR_SGD  CURRENCY       EUR/SGD           -4        0.1\n",
       "2      EU50_EUR       CFD     Europe 50            0        0.1\n",
       "3       XAU_CAD     METAL      Gold/CAD           -2        0.2\n",
       "4       EUR_AUD  CURRENCY       EUR/AUD           -4        0.1\n",
       "..          ...       ...           ...          ...        ...\n",
       "123  USB05Y_USD       CFD  US 5Y T-Note           -2        0.2\n",
       "124     XCU_USD       CFD        Copper           -4        0.2\n",
       "125     SGD_CHF  CURRENCY       SGD/CHF           -4        0.1\n",
       "126     USD_TRY  CURRENCY       USD/TRY           -4       0.25\n",
       "127     GBP_JPY  CURRENCY       GBP/JPY           -2        0.1\n",
       "\n",
       "[128 rows x 5 columns]"
      ]
     },
     "execution_count": 34,
     "metadata": {},
     "output_type": "execute_result"
    }
   ],
   "source": [
    "instrument_df"
   ]
  },
  {
   "cell_type": "code",
   "execution_count": 35,
   "metadata": {},
   "outputs": [],
   "source": [
    "instrument_df.to_pickle(\"instruments.pkl\")"
   ]
  },
  {
   "cell_type": "code",
   "execution_count": 36,
   "metadata": {},
   "outputs": [],
   "source": [
    "new_table = pd.read_pickle(\"instruments.pkl\")"
   ]
  },
  {
   "cell_type": "code",
   "execution_count": 37,
   "metadata": {},
   "outputs": [
    {
     "data": {
      "text/html": [
       "<div>\n",
       "<style scoped>\n",
       "    .dataframe tbody tr th:only-of-type {\n",
       "        vertical-align: middle;\n",
       "    }\n",
       "\n",
       "    .dataframe tbody tr th {\n",
       "        vertical-align: top;\n",
       "    }\n",
       "\n",
       "    .dataframe thead th {\n",
       "        text-align: right;\n",
       "    }\n",
       "</style>\n",
       "<table border=\"1\" class=\"dataframe\">\n",
       "  <thead>\n",
       "    <tr style=\"text-align: right;\">\n",
       "      <th></th>\n",
       "      <th>name</th>\n",
       "      <th>type</th>\n",
       "      <th>displayName</th>\n",
       "      <th>piplocation</th>\n",
       "      <th>marginRate</th>\n",
       "    </tr>\n",
       "  </thead>\n",
       "  <tbody>\n",
       "    <tr>\n",
       "      <th>0</th>\n",
       "      <td>NZD_CAD</td>\n",
       "      <td>CURRENCY</td>\n",
       "      <td>NZD/CAD</td>\n",
       "      <td>-4</td>\n",
       "      <td>0.1</td>\n",
       "    </tr>\n",
       "    <tr>\n",
       "      <th>1</th>\n",
       "      <td>EUR_SGD</td>\n",
       "      <td>CURRENCY</td>\n",
       "      <td>EUR/SGD</td>\n",
       "      <td>-4</td>\n",
       "      <td>0.1</td>\n",
       "    </tr>\n",
       "    <tr>\n",
       "      <th>2</th>\n",
       "      <td>EU50_EUR</td>\n",
       "      <td>CFD</td>\n",
       "      <td>Europe 50</td>\n",
       "      <td>0</td>\n",
       "      <td>0.1</td>\n",
       "    </tr>\n",
       "    <tr>\n",
       "      <th>3</th>\n",
       "      <td>XAU_CAD</td>\n",
       "      <td>METAL</td>\n",
       "      <td>Gold/CAD</td>\n",
       "      <td>-2</td>\n",
       "      <td>0.2</td>\n",
       "    </tr>\n",
       "    <tr>\n",
       "      <th>4</th>\n",
       "      <td>EUR_AUD</td>\n",
       "      <td>CURRENCY</td>\n",
       "      <td>EUR/AUD</td>\n",
       "      <td>-4</td>\n",
       "      <td>0.1</td>\n",
       "    </tr>\n",
       "    <tr>\n",
       "      <th>...</th>\n",
       "      <td>...</td>\n",
       "      <td>...</td>\n",
       "      <td>...</td>\n",
       "      <td>...</td>\n",
       "      <td>...</td>\n",
       "    </tr>\n",
       "    <tr>\n",
       "      <th>123</th>\n",
       "      <td>USB05Y_USD</td>\n",
       "      <td>CFD</td>\n",
       "      <td>US 5Y T-Note</td>\n",
       "      <td>-2</td>\n",
       "      <td>0.2</td>\n",
       "    </tr>\n",
       "    <tr>\n",
       "      <th>124</th>\n",
       "      <td>XCU_USD</td>\n",
       "      <td>CFD</td>\n",
       "      <td>Copper</td>\n",
       "      <td>-4</td>\n",
       "      <td>0.2</td>\n",
       "    </tr>\n",
       "    <tr>\n",
       "      <th>125</th>\n",
       "      <td>SGD_CHF</td>\n",
       "      <td>CURRENCY</td>\n",
       "      <td>SGD/CHF</td>\n",
       "      <td>-4</td>\n",
       "      <td>0.1</td>\n",
       "    </tr>\n",
       "    <tr>\n",
       "      <th>126</th>\n",
       "      <td>USD_TRY</td>\n",
       "      <td>CURRENCY</td>\n",
       "      <td>USD/TRY</td>\n",
       "      <td>-4</td>\n",
       "      <td>0.25</td>\n",
       "    </tr>\n",
       "    <tr>\n",
       "      <th>127</th>\n",
       "      <td>GBP_JPY</td>\n",
       "      <td>CURRENCY</td>\n",
       "      <td>GBP/JPY</td>\n",
       "      <td>-2</td>\n",
       "      <td>0.1</td>\n",
       "    </tr>\n",
       "  </tbody>\n",
       "</table>\n",
       "<p>128 rows × 5 columns</p>\n",
       "</div>"
      ],
      "text/plain": [
       "           name      type   displayName  piplocation marginRate\n",
       "0       NZD_CAD  CURRENCY       NZD/CAD           -4        0.1\n",
       "1       EUR_SGD  CURRENCY       EUR/SGD           -4        0.1\n",
       "2      EU50_EUR       CFD     Europe 50            0        0.1\n",
       "3       XAU_CAD     METAL      Gold/CAD           -2        0.2\n",
       "4       EUR_AUD  CURRENCY       EUR/AUD           -4        0.1\n",
       "..          ...       ...           ...          ...        ...\n",
       "123  USB05Y_USD       CFD  US 5Y T-Note           -2        0.2\n",
       "124     XCU_USD       CFD        Copper           -4        0.2\n",
       "125     SGD_CHF  CURRENCY       SGD/CHF           -4        0.1\n",
       "126     USD_TRY  CURRENCY       USD/TRY           -4       0.25\n",
       "127     GBP_JPY  CURRENCY       GBP/JPY           -2        0.1\n",
       "\n",
       "[128 rows x 5 columns]"
      ]
     },
     "execution_count": 37,
     "metadata": {},
     "output_type": "execute_result"
    }
   ],
   "source": [
    "new_table"
   ]
  },
  {
   "cell_type": "code",
   "execution_count": null,
   "metadata": {},
   "outputs": [],
   "source": []
  },
  {
   "cell_type": "code",
   "execution_count": null,
   "metadata": {},
   "outputs": [],
   "source": []
  }
 ],
 "metadata": {
  "kernelspec": {
   "display_name": "base",
   "language": "python",
   "name": "python3"
  },
  "language_info": {
   "codemirror_mode": {
    "name": "ipython",
    "version": 3
   },
   "file_extension": ".py",
   "mimetype": "text/x-python",
   "name": "python",
   "nbconvert_exporter": "python",
   "pygments_lexer": "ipython3",
   "version": "3.9.7"
  },
  "orig_nbformat": 4,
  "vscode": {
   "interpreter": {
    "hash": "f08154012ddadd8e950e6e9e035c7a7b32c136e7647e9b7c77e02eb723a8bedb"
   }
  }
 },
 "nbformat": 4,
 "nbformat_minor": 2
}
